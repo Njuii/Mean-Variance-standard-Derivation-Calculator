{
 "cells": [
  {
   "cell_type": "code",
   "execution_count": 1,
   "metadata": {},
   "outputs": [],
   "source": [
    "from statistics import mean\n",
    "import sys\n",
    "import numpy as np"
   ]
  },
  {
   "cell_type": "code",
   "execution_count": 42,
   "metadata": {},
   "outputs": [],
   "source": [
    "def calculate(list):\n",
    "\n",
    "  if len(list) != 9:\n",
    "    raise ValueError('List must contain nine numbers.')\n",
    "\n",
    "  # Setting up Matrix\n",
    "  matrix = np.array(list).reshape(3,3)\n",
    "\n",
    "\n",
    "  # Code for working out Mean\n",
    "  mean_axis0 = matrix.mean(axis=0)\n",
    "  mean_axis1 = matrix.mean(axis=1)\n",
    "  mean_flattened = matrix.sum() / 9\n",
    "  # Change from array to list\n",
    "  _mean_axis0 = mean_axis0.tolist()\n",
    "  _mean_axis1 = mean_axis1.tolist()\n",
    "\n",
    "  # Code for working out Variance\n",
    "  variance_axis0 = matrix.var(axis=0)\n",
    "  variance_axis1 = matrix.var(axis=1)\n",
    "  variance_flattened = matrix.var()\n",
    "  # Change from array to list\n",
    "  _variance_axis0 = variance_axis0.tolist()\n",
    "  _variance_axis1 = variance_axis1.tolist()\n",
    "\n",
    "  # Code for working out standard deviation\n",
    "  std_axis0 = matrix.std(axis = 0)\n",
    "  std_axis1 = matrix.std(axis = 1)\n",
    "  std_flattened = matrix.std()\n",
    "  # Change from array to list\n",
    "  _std_axis0 = std_axis0.tolist()\n",
    "  _std_axis1 = std_axis1.tolist()\n",
    "\n",
    "  # Code for working out max\n",
    "  max_axis0 = matrix.max(axis = 0)\n",
    "  max_axis1 = matrix.max(axis = 1)\n",
    "  max_flattened = matrix.max()\n",
    "  # Change from array to list\n",
    "  _max_axis0 = max_axis0.tolist()\n",
    "  _max_axis1 = max_axis1.tolist()\n",
    "\n",
    "  # Code for working out min\n",
    "  min_axis0 = matrix.min(axis = 0)\n",
    "  min_axis1 = matrix.min(axis = 1)\n",
    "  min_flattened = matrix.min()\n",
    "  # Change from array to list\n",
    "  _min_axis0 = min_axis0.tolist()\n",
    "  _min_axis1 = min_axis1.tolist()\n",
    "\n",
    "  # Code for working out sum\n",
    "  sum_axis0 = matrix.sum(axis = 0)\n",
    "  sum_axis1 = matrix.sum(axis = 1)\n",
    "  sum_flattened = matrix.sum()\n",
    "  # Change from array to list\n",
    "  _sum_axis0 = sum_axis0.tolist()\n",
    "  _sum_axis1 = sum_axis1.tolist()\n",
    "\n",
    "\n",
    "  # Dictionary\n",
    "  calculations = {\n",
    "    \"mean\": [_mean_axis0, _mean_axis1, mean_flattened],\n",
    "    \"variance\": [_variance_axis0, _variance_axis1, variance_flattened],\n",
    "    \"standard deviation\": [_std_axis0, _std_axis1, std_flattened],\n",
    "    \"max\": [_max_axis0, _max_axis1, max_flattened],\n",
    "    \"min\": [_min_axis0, _min_axis1, min_flattened],\n",
    "    \"sum\": [_sum_axis0, _sum_axis1, sum_flattened],\n",
    "\n",
    "    }\n",
    "\n",
    "\n",
    "\n",
    "  return calculations"
   ]
  },
  {
   "cell_type": "code",
   "execution_count": 43,
   "metadata": {},
   "outputs": [
    {
     "data": {
      "text/plain": [
       "{'mean': [[3.6666666666666665, 5.0, 3.0],\n",
       "  [3.3333333333333335, 4.0, 4.333333333333333],\n",
       "  3.888888888888889],\n",
       " 'variance': [[9.555555555555557, 0.6666666666666666, 8.666666666666666],\n",
       "  [3.555555555555556, 10.666666666666666, 6.222222222222221],\n",
       "  6.987654320987654],\n",
       " 'standard deviation': [[3.091206165165235,\n",
       "   0.816496580927726,\n",
       "   2.943920288775949],\n",
       "  [1.8856180831641267, 3.265986323710904, 2.494438257849294],\n",
       "  2.6434171674156266],\n",
       " 'max': [[8, 6, 7], [6, 8, 7], 8],\n",
       " 'min': [[1, 4, 0], [2, 0, 1], 0],\n",
       " 'sum': [[11, 15, 9], [10, 12, 13], 35]}"
      ]
     },
     "execution_count": 43,
     "metadata": {},
     "output_type": "execute_result"
    }
   ],
   "source": [
    "\n",
    "\n",
    "calculate([2,6,2,8,4,0,1,5,7])"
   ]
  },
  {
   "cell_type": "code",
   "execution_count": 25,
   "metadata": {},
   "outputs": [
    {
     "name": "stdout",
     "output_type": "stream",
     "text": [
      "[3 4 5]\n"
     ]
    }
   ],
   "source": [
    "\n",
    "test1 = [0,1,2,3,4,5,6,7,8]\n",
    "\n",
    "test2 = np.array(test1).reshape(3,3)\n",
    "\n",
    "mean_axis0 = test2.mean(axis=0, dtype=int)\n",
    "# mean_axis0.tolist()\n",
    "\n",
    "print(mean_axis0)"
   ]
  },
  {
   "cell_type": "code",
   "execution_count": null,
   "metadata": {},
   "outputs": [],
   "source": []
  }
 ],
 "metadata": {
  "kernelspec": {
   "display_name": "Python 3.9.12 ('base')",
   "language": "python",
   "name": "python3"
  },
  "language_info": {
   "codemirror_mode": {
    "name": "ipython",
    "version": 3
   },
   "file_extension": ".py",
   "mimetype": "text/x-python",
   "name": "python",
   "nbconvert_exporter": "python",
   "pygments_lexer": "ipython3",
   "version": "3.9.12"
  },
  "orig_nbformat": 4,
  "vscode": {
   "interpreter": {
    "hash": "01484db09eecdf575878c282e0a1ea6a004783de8043460c19d0491b2cdbd9fc"
   }
  }
 },
 "nbformat": 4,
 "nbformat_minor": 2
}
